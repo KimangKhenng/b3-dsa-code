{
 "cells": [
  {
   "cell_type": "code",
   "execution_count": 16,
   "id": "c6e29403-0283-4242-997e-5fd05d923a7e",
   "metadata": {},
   "outputs": [],
   "source": [
    "import pandas as pd\n",
    "import numpy as np\n",
    "import matplotlib.pyplot as plt\n",
    "from sklearn.model_selection import train_test_split"
   ]
  },
  {
   "cell_type": "code",
   "execution_count": 17,
   "id": "5a5eff66-6965-47f9-ad06-2d6490a49bc4",
   "metadata": {},
   "outputs": [
    {
     "data": {
      "text/html": [
       "<div>\n",
       "<style scoped>\n",
       "    .dataframe tbody tr th:only-of-type {\n",
       "        vertical-align: middle;\n",
       "    }\n",
       "\n",
       "    .dataframe tbody tr th {\n",
       "        vertical-align: top;\n",
       "    }\n",
       "\n",
       "    .dataframe thead th {\n",
       "        text-align: right;\n",
       "    }\n",
       "</style>\n",
       "<table border=\"1\" class=\"dataframe\">\n",
       "  <thead>\n",
       "    <tr style=\"text-align: right;\">\n",
       "      <th></th>\n",
       "      <th>x</th>\n",
       "      <th>y</th>\n",
       "    </tr>\n",
       "  </thead>\n",
       "  <tbody>\n",
       "    <tr>\n",
       "      <th>0</th>\n",
       "      <td>77</td>\n",
       "      <td>79.775152</td>\n",
       "    </tr>\n",
       "    <tr>\n",
       "      <th>1</th>\n",
       "      <td>21</td>\n",
       "      <td>23.177279</td>\n",
       "    </tr>\n",
       "    <tr>\n",
       "      <th>2</th>\n",
       "      <td>22</td>\n",
       "      <td>25.609262</td>\n",
       "    </tr>\n",
       "    <tr>\n",
       "      <th>3</th>\n",
       "      <td>20</td>\n",
       "      <td>17.857388</td>\n",
       "    </tr>\n",
       "    <tr>\n",
       "      <th>4</th>\n",
       "      <td>36</td>\n",
       "      <td>41.849864</td>\n",
       "    </tr>\n",
       "  </tbody>\n",
       "</table>\n",
       "</div>"
      ],
      "text/plain": [
       "    x          y\n",
       "0  77  79.775152\n",
       "1  21  23.177279\n",
       "2  22  25.609262\n",
       "3  20  17.857388\n",
       "4  36  41.849864"
      ]
     },
     "execution_count": 17,
     "metadata": {},
     "output_type": "execute_result"
    }
   ],
   "source": [
    "data = pd.read_csv('test.csv')\n",
    "data = data.dropna()\n",
    "# To-do list\n",
    "# Always perform EDA\n",
    "# If null, incomplete, preprocessing\n",
    "data.head()"
   ]
  },
  {
   "cell_type": "code",
   "execution_count": 18,
   "id": "4558913e-2fa0-480b-bedd-c362e8649838",
   "metadata": {},
   "outputs": [],
   "source": [
    "X = data['x']\n",
    "Y = data['y']"
   ]
  },
  {
   "cell_type": "code",
   "execution_count": 19,
   "id": "60c82d48-e5b9-4dfa-82f2-d66c9a23ca1b",
   "metadata": {},
   "outputs": [],
   "source": [
    "# Split data into traning and testing \n",
    "training_x, testing_x , training_y , testing_y = train_test_split(X,Y, test_size=0.25)"
   ]
  },
  {
   "cell_type": "code",
   "execution_count": 20,
   "id": "d752dc35-ead7-43db-bff6-a14ca270cedd",
   "metadata": {},
   "outputs": [],
   "source": [
    "# Y = ax + b "
   ]
  },
  {
   "cell_type": "code",
   "execution_count": 21,
   "id": "4f69faaa-f986-4be1-b3e6-4bc6d7ac3dbd",
   "metadata": {},
   "outputs": [],
   "source": [
    "class LinearRegression:\n",
    "    def __init__(self):\n",
    "        self.parameters = {}\n",
    "    def prediction(self, train_data):\n",
    "        a = self.parameters['a']\n",
    "        b = self.parameters['b']\n",
    "        predictions = np.multiply(a, train_data) + b\n",
    "        return predictions\n",
    "    def cost_function(self, predictions, train_output):\n",
    "        cost = np.mean((predictions - train_output)**2)\n",
    "        return cost\n",
    "    def back_propagation(self, train_data, train_ouput, predictions):\n",
    "        #derivative\n",
    "        derivatives = {}\n",
    "        da = 2*np.mean(np.multiply(predictions-train_ouput, train_data))\n",
    "        db = 2*np.mean(predictions-train_ouput)\n",
    "        derivatives['da'] = da\n",
    "        derivatives['db'] = db\n",
    "        return derivatives\n",
    "    def update_parameters(self, derivatives, learning_rate):\n",
    "        self.parameters['a'] = self.parameters['a'] - learning_rate*derivatives['da']\n",
    "        self.parameters['b'] = self.parameters['b'] - learning_rate*derivatives['db']\n",
    "        \n",
    "    def train(self, train_data, train_output, learning_rate, iters):\n",
    "        # Random starting \n",
    "        self.parameters['a'] = np.random.uniform(0,1) * -1\n",
    "        self.parameters['b'] = np.random.uniform(0,1) * -1\n",
    "        self.loss = []\n",
    "        \n",
    "        def update(iteration):\n",
    "            predictions = self.prediction(train_data)    \n",
    "            cost = self.cost_function(predictions, train_output)\n",
    "            derivatives = self.back_propagation(train_data, train_output, predictions)\n",
    "            self.update_parameters(derivatives, learning_rate)\n",
    "            self.loss.append(cost)\n",
    "            print(\"Iteration = {}, Loss = {}\".format(iteration + 1, cost))\n",
    "\n",
    "        i = 0\n",
    "        while i < iters:\n",
    "            update(i)\n",
    "            i += 1\n",
    "        \n",
    "        return self.parameters, self.loss"
   ]
  },
  {
   "cell_type": "code",
   "execution_count": 22,
   "id": "ecfbcaa5-f4d6-4884-be57-8b20eecff9f4",
   "metadata": {},
   "outputs": [],
   "source": [
    "linear_regression = LinearRegression()"
   ]
  },
  {
   "cell_type": "code",
   "execution_count": 23,
   "id": "e3dde96c-709a-47c2-9671-646a329cedd3",
   "metadata": {},
   "outputs": [
    {
     "name": "stdout",
     "output_type": "stream",
     "text": [
      "Iteration = 1, Loss = 5377.866149536589\n",
      "Iteration = 2, Loss = 583.8176200389987\n",
      "Iteration = 3, Loss = 70.80675166691708\n",
      "Iteration = 4, Loss = 15.909482222385478\n",
      "Iteration = 5, Loss = 10.034923189841571\n",
      "Iteration = 6, Loss = 9.40628163706233\n",
      "Iteration = 7, Loss = 9.339005418717282\n",
      "Iteration = 8, Loss = 9.331800873658178\n",
      "Iteration = 9, Loss = 9.331024595447962\n",
      "Iteration = 10, Loss = 9.330936206185987\n",
      "Iteration = 11, Loss = 9.330921428356465\n",
      "Iteration = 12, Loss = 9.330914528157\n",
      "Iteration = 13, Loss = 9.33090847141706\n",
      "Iteration = 14, Loss = 9.330902505410409\n",
      "Iteration = 15, Loss = 9.330896549587811\n",
      "Iteration = 16, Loss = 9.330890595329656\n",
      "Iteration = 17, Loss = 9.330884641713515\n",
      "Iteration = 18, Loss = 9.33087868864064\n",
      "Iteration = 19, Loss = 9.330872736100423\n",
      "Iteration = 20, Loss = 9.330866784091683\n",
      "Iteration = 21, Loss = 9.330860832614249\n",
      "Iteration = 22, Loss = 9.330854881668065\n",
      "Iteration = 23, Loss = 9.330848931253081\n",
      "Iteration = 24, Loss = 9.33084298136925\n",
      "Iteration = 25, Loss = 9.330837032016523\n",
      "Iteration = 26, Loss = 9.330831083194855\n",
      "Iteration = 27, Loss = 9.330825134904197\n",
      "Iteration = 28, Loss = 9.330819187144503\n",
      "Iteration = 29, Loss = 9.33081323991572\n",
      "Iteration = 30, Loss = 9.33080729321781\n",
      "Iteration = 31, Loss = 9.330801347050718\n",
      "Iteration = 32, Loss = 9.330795401414399\n",
      "Iteration = 33, Loss = 9.330789456308809\n",
      "Iteration = 34, Loss = 9.330783511733893\n",
      "Iteration = 35, Loss = 9.330777567689609\n",
      "Iteration = 36, Loss = 9.330771624175911\n",
      "Iteration = 37, Loss = 9.330765681192748\n",
      "Iteration = 38, Loss = 9.330759738740078\n",
      "Iteration = 39, Loss = 9.330753796817843\n",
      "Iteration = 40, Loss = 9.330747855426008\n",
      "Iteration = 41, Loss = 9.33074191456452\n",
      "Iteration = 42, Loss = 9.330735974233328\n",
      "Iteration = 43, Loss = 9.330730034432388\n",
      "Iteration = 44, Loss = 9.330724095161655\n",
      "Iteration = 45, Loss = 9.330718156421078\n",
      "Iteration = 46, Loss = 9.33071221821061\n",
      "Iteration = 47, Loss = 9.33070628053021\n",
      "Iteration = 48, Loss = 9.330700343379823\n",
      "Iteration = 49, Loss = 9.330694406759406\n",
      "Iteration = 50, Loss = 9.330688470668905\n",
      "Iteration = 51, Loss = 9.330682535108282\n",
      "Iteration = 52, Loss = 9.330676600077483\n",
      "Iteration = 53, Loss = 9.330670665576472\n",
      "Iteration = 54, Loss = 9.330664731605182\n",
      "Iteration = 55, Loss = 9.330658798163581\n",
      "Iteration = 56, Loss = 9.33065286525162\n",
      "Iteration = 57, Loss = 9.330646932869245\n",
      "Iteration = 58, Loss = 9.330641001016415\n",
      "Iteration = 59, Loss = 9.330635069693077\n",
      "Iteration = 60, Loss = 9.33062913889919\n",
      "Iteration = 61, Loss = 9.330623208634702\n",
      "Iteration = 62, Loss = 9.33061727889957\n",
      "Iteration = 63, Loss = 9.330611349693745\n",
      "Iteration = 64, Loss = 9.330605421017177\n",
      "Iteration = 65, Loss = 9.330599492869817\n",
      "Iteration = 66, Loss = 9.330593565251629\n",
      "Iteration = 67, Loss = 9.330587638162557\n",
      "Iteration = 68, Loss = 9.330581711602553\n",
      "Iteration = 69, Loss = 9.330575785571575\n",
      "Iteration = 70, Loss = 9.330569860069572\n",
      "Iteration = 71, Loss = 9.330563935096498\n",
      "Iteration = 72, Loss = 9.330558010652302\n",
      "Iteration = 73, Loss = 9.330552086736942\n",
      "Iteration = 74, Loss = 9.330546163350373\n",
      "Iteration = 75, Loss = 9.33054024049254\n",
      "Iteration = 76, Loss = 9.330534318163398\n",
      "Iteration = 77, Loss = 9.330528396362903\n",
      "Iteration = 78, Loss = 9.330522475091007\n",
      "Iteration = 79, Loss = 9.330516554347664\n",
      "Iteration = 80, Loss = 9.330510634132821\n",
      "Iteration = 81, Loss = 9.330504714446437\n",
      "Iteration = 82, Loss = 9.330498795288461\n",
      "Iteration = 83, Loss = 9.330492876658848\n",
      "Iteration = 84, Loss = 9.33048695855755\n",
      "Iteration = 85, Loss = 9.33048104098452\n",
      "Iteration = 86, Loss = 9.33047512393971\n",
      "Iteration = 87, Loss = 9.330469207423077\n",
      "Iteration = 88, Loss = 9.330463291434567\n",
      "Iteration = 89, Loss = 9.330457375974136\n",
      "Iteration = 90, Loss = 9.33045146104174\n",
      "Iteration = 91, Loss = 9.330445546637327\n",
      "Iteration = 92, Loss = 9.330439632760855\n",
      "Iteration = 93, Loss = 9.330433719412268\n",
      "Iteration = 94, Loss = 9.330427806591532\n",
      "Iteration = 95, Loss = 9.330421894298588\n",
      "Iteration = 96, Loss = 9.330415982533395\n",
      "Iteration = 97, Loss = 9.330410071295905\n",
      "Iteration = 98, Loss = 9.330404160586069\n",
      "Iteration = 99, Loss = 9.330398250403842\n",
      "Iteration = 100, Loss = 9.330392340749176\n"
     ]
    }
   ],
   "source": [
    "parameters, loss = linear_regression.train(training_x, training_y, 0.0001, 100)"
   ]
  },
  {
   "cell_type": "code",
   "execution_count": 24,
   "id": "22b452ce-4f40-4421-a583-c69b1546aa0e",
   "metadata": {},
   "outputs": [],
   "source": [
    "# Evaluation"
   ]
  },
  {
   "cell_type": "code",
   "execution_count": 25,
   "id": "a4bb8f96-e22e-4212-bf62-f0b38021924e",
   "metadata": {},
   "outputs": [
    {
     "data": {
      "text/plain": [
       "{'a': 1.0161635191633784, 'b': -0.5615232612771416}"
      ]
     },
     "execution_count": 25,
     "metadata": {},
     "output_type": "execute_result"
    }
   ],
   "source": [
    "parameters"
   ]
  },
  {
   "cell_type": "code",
   "execution_count": 26,
   "id": "e5549fee-3f76-4725-a355-4fd0fec2cc29",
   "metadata": {},
   "outputs": [],
   "source": [
    "def linear(x):\n",
    "    return parameters['a'] * x + parameters['b']"
   ]
  },
  {
   "cell_type": "code",
   "execution_count": 27,
   "id": "f653aa33-ad58-4277-87d2-e1498cdd4069",
   "metadata": {},
   "outputs": [],
   "source": [
    "predicted = list(map(linear,training_x))"
   ]
  },
  {
   "cell_type": "code",
   "execution_count": 28,
   "id": "dccd61f4-b266-4748-94a6-e69a1183e729",
   "metadata": {},
   "outputs": [
    {
     "data": {
      "text/plain": [
       "[<matplotlib.lines.Line2D at 0xffff60595550>]"
      ]
     },
     "execution_count": 28,
     "metadata": {},
     "output_type": "execute_result"
    },
    {
     "data": {
      "image/png": "[encoded data removed]",
      "text/plain": [
       "<Figure size 640x480 with 1 Axes>"
      ]
     },
     "metadata": {},
     "output_type": "display_data"
    }
   ],
   "source": [
    "plt.scatter(training_x,training_y, color='black')\n",
    "plt.plot(training_x, predicted, color='red')"
   ]
  },
  {
   "cell_type": "code",
   "execution_count": 29,
   "id": "99a60c89-0cd5-4c04-a0b3-4819fc5e2f2c",
   "metadata": {},
   "outputs": [
    {
     "data": {
      "text/plain": [
       "202.67118057139857"
      ]
     },
     "execution_count": 29,
     "metadata": {},
     "output_type": "execute_result"
    }
   ],
   "source": [
    "linear(200)"
   ]
  },
  {
   "cell_type": "code",
   "execution_count": 30,
   "id": "a516a597-96a4-4750-ad33-e670f0fce1a9",
   "metadata": {},
   "outputs": [],
   "source": [
    "# Evalution\n",
    "# How accurate is the model (y= ax+b) a,b obtained from traninig on data"
   ]
  },
  {
   "cell_type": "code",
   "execution_count": null,
   "id": "34a22522-9b9f-430a-993d-b4c6a202fd2b",
   "metadata": {},
   "outputs": [],
   "source": []
  }
 ],
 "metadata": {
  "kernelspec": {
   "display_name": "Python 3 (ipykernel)",
   "language": "python",
   "name": "python3"
  },
  "language_info": {
   "codemirror_mode": {
    "name": "ipython",
    "version": 3
   },
   "file_extension": ".py",
   "mimetype": "text/x-python",
   "name": "python",
   "nbconvert_exporter": "python",
   "pygments_lexer": "ipython3",
   "version": "3.11.9"
  }
 },
 "nbformat": 4,
 "nbformat_minor": 5
}
